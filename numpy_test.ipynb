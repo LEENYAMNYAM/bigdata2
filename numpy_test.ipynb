{
 "cells": [
  {
   "cell_type": "markdown",
   "id": "f6725778",
   "metadata": {},
   "source": [
    "# 250513 2장 데이터 분석 라이브러리 Numpy"
   ]
  },
  {
   "cell_type": "markdown",
   "id": "13681f42",
   "metadata": {},
   "source": [
    "※ 1장 데이터 분석 이해(말로 설명하고 끝남) "
   ]
  },
  {
   "cell_type": "code",
   "execution_count": 1,
   "id": "d771b5a4",
   "metadata": {},
   "outputs": [
    {
     "name": "stdout",
     "output_type": "stream",
     "text": [
      "[1 2 3 4 5]\n"
     ]
    }
   ],
   "source": [
    "import numpy as np\n",
    "arr = np.array([1,2,3,4,5])\n",
    "print(arr)"
   ]
  },
  {
   "cell_type": "code",
   "execution_count": 2,
   "id": "b75258c5",
   "metadata": {},
   "outputs": [
    {
     "name": "stdout",
     "output_type": "stream",
     "text": [
      "[[1 2 3]\n",
      " [4 5 6]]\n"
     ]
    }
   ],
   "source": [
    "arr2 = np.array([[1,2,3],[4,5,6]])\n",
    "print(arr2)"
   ]
  },
  {
   "cell_type": "code",
   "execution_count": 3,
   "id": "fd9149d6",
   "metadata": {},
   "outputs": [
    {
     "name": "stdout",
     "output_type": "stream",
     "text": [
      "[[[1 2 3]\n",
      "  [4 5 6]]\n",
      "\n",
      " [[1 2 3]\n",
      "  [4 5 6]]]\n"
     ]
    }
   ],
   "source": [
    "arr3 = np.array([[[1,2,3],[4,5,6]],[[1,2,3], [4,5,6]]])\n",
    "print(arr3)"
   ]
  },
  {
   "cell_type": "code",
   "execution_count": null,
   "id": "e194d032",
   "metadata": {},
   "outputs": [
    {
     "name": "stdout",
     "output_type": "stream",
     "text": [
      "[[0. 0. 0.]\n",
      " [0. 0. 0.]]\n",
      "[[1. 1. 1.]\n",
      " [1. 1. 1.]]\n",
      "[[[1 1 1]\n",
      "  [1 1 1]]\n",
      "\n",
      " [[1 1 1]\n",
      "  [1 1 1]]]\n",
      "[[10 10 10]\n",
      " [10 10 10]]\n",
      "[[1. 0. 0. 0.]\n",
      " [0. 1. 0. 0.]\n",
      " [0. 0. 1. 0.]]\n"
     ]
    }
   ],
   "source": [
    "# 영행렬 만들기\n",
    "a1 = np.zeros((2,3))\n",
    "print(a1)\n",
    "\n",
    "# 요소가 1인 행렬 만들기\n",
    "a2 = np.ones((2,3))\n",
    "print(a2)\n",
    "\n",
    "# np.ones_like(배열) : 배열과 같은 크기의 행렬을 만들고, 요소는 1로 채운다.\n",
    "# np.zeros_like(배열) : 배열과 같은 크기의 행렬을 만들고, 요소는 0으로 채운다.\n",
    "a3 = np.ones_like(arr3)\n",
    "print(a3)\n",
    "\n",
    "# np.full(행렬의 크기, 채울 값)\n",
    "full_arr = np.full((2,3), 10)\n",
    "print(full_arr)\n",
    "\n",
    "# 단위행렬 만들기\n",
    "a4 = np.eye(3)\n",
    "print(a4)\n",
    "\n",
    "# np.eye(행렬의 크기, 대각선의 크기, 세로로 이동 하는 크기)\n",
    "a5 = np.eye(3, 4, k=0)\n",
    "print(a5)\n"
   ]
  },
  {
   "cell_type": "code",
   "execution_count": 20,
   "id": "26a0b0c1",
   "metadata": {},
   "outputs": [
    {
     "name": "stdout",
     "output_type": "stream",
     "text": [
      "[1 3 5 7 9]\n",
      "[10  9  8  7  6  5  4  3  2]\n",
      "[0.   0.25 0.5  0.75 1.  ]\n",
      "1.0\n"
     ]
    }
   ],
   "source": [
    "# np.arange(시작, 종료값, 증가폭)\n",
    "# 1부터 10까지 2씩 증가하는 배열 만들기\n",
    "a1 = np.arange(1,10,2)\n",
    "print(a1)\n",
    "\n",
    "# 10부터 1까지 1씩 감소하는 배열 만들기\n",
    "a2 = np.arange(10,1, -1)\n",
    "print(a2)\n",
    "\n",
    "# np.linspace(시작, 종료값, 개수) : 시작과 종료값을 포함하여 개수만큼 균일한 간격으로 나눈 배열을 만든다.\n",
    "# endpoint = True : 종료값을 포함하는지 여부 default = False\n",
    "# retstep = False : 증가폭을 반환하지 않음  default = False\n",
    "b = np.linspace(0, 1, 5, endpoint=True, retstep=False)\n",
    "print(b)\n",
    "\n",
    "# np.logspace(시작, 종료값, 개수) : 시작과 종료값을 포함하여 개수만큼 균일한 간격으로 나눈 배열을 만든다.\n",
    "# logspace는 로그를 사용하여 균일한 간격으로 나눈 배열을 만든다.\n",
    "a = np.log10(10)\n",
    "print(a)\n"
   ]
  },
  {
   "cell_type": "code",
   "execution_count": 22,
   "id": "3924567d",
   "metadata": {},
   "outputs": [
    {
     "name": "stdout",
     "output_type": "stream",
     "text": [
      "[ 10.          17.7827941   31.6227766   56.23413252 100.        ]\n"
     ]
    }
   ],
   "source": [
    "a = np.logspace(np.log10(10), np.log10(100), num=5)\n",
    "print(a)"
   ]
  },
  {
   "cell_type": "code",
   "execution_count": 24,
   "id": "45c46238",
   "metadata": {},
   "outputs": [
    {
     "name": "stdout",
     "output_type": "stream",
     "text": [
      "[ 10.          17.7827941   31.6227766   56.23413252 100.        ]\n"
     ]
    }
   ],
   "source": [
    "a = np.logspace(1, 2, num=5)\n",
    "print(a)"
   ]
  },
  {
   "cell_type": "code",
   "execution_count": 43,
   "id": "e22f7f35",
   "metadata": {},
   "outputs": [
    {
     "name": "stdout",
     "output_type": "stream",
     "text": [
      "[0.5488135  0.71518937 0.60276338 0.54488318 0.4236548  0.64589411\n",
      " 0.43758721 0.891773   0.96366276 0.38344152]\n",
      "[[40 88 47]\n",
      " [89 82 38]]\n",
      "[[0.83607876 0.33739616 0.64817187]\n",
      " [0.36824154 0.95715516 0.14035078]]\n",
      "[[-0.07770457  1.08963016  0.09654267]\n",
      " [ 1.41866711  1.16827314  0.94718595]]\n"
     ]
    }
   ],
   "source": [
    "#seed(난수 생성기 초기화) : 난수 생성기의 초기값을 설정한다. 시드값이 같으면 같은 난수를 생성한다.(난수가 생성된 후 고정값이 됨)\n",
    "np.random.seed(0) # 난수 생성기 초기화\n",
    "\n",
    "# np.random.random(행렬의 크기) : 0과 1사이의 균일한 분포를 가지는 난수를 생성한다.\n",
    "a = np.random.random(10)\n",
    "print(a)\n",
    "\n",
    "# np.random.randint(시작, 종료값, 행렬의 크기) : 시작과 종료값 사이의 균일한 분포를 가지는 난수를 생성한다.\n",
    "b = np.random.randint(1, 100, (2,3))\n",
    "print(b)\n",
    "\n",
    "# np.random.rand(행렬의 크기) : 0과 1사이의 균일한 분포를 가지는 난수를 생성한다.\n",
    "c = np. random.rand(2,3)\n",
    "print(c)\n",
    "\n",
    "# np.random.randn(행렬의 크기) : 정규분포를 따르는 난수를 생성한다.\n",
    "d = np.random.randn(2,3)\n",
    "print(d)"
   ]
  },
  {
   "cell_type": "code",
   "execution_count": 46,
   "id": "0d755ff9",
   "metadata": {},
   "outputs": [
    {
     "name": "stdout",
     "output_type": "stream",
     "text": [
      "[1 2 3 4 5]\n",
      "ndim :  1\n",
      "shape :  (5,)\n",
      "size :  5\n",
      "dtype :  int32\n",
      "itemsize :  4\n",
      "nbytes :  20\n",
      "[ 1  2  3  4  5  6  7  8  9 10 11 12]\n",
      "[[ 1  2  3  4]\n",
      " [ 5  6  7  8]\n",
      " [ 9 10 11 12]]\n"
     ]
    }
   ],
   "source": [
    "# 배열 속성 알아보기\n",
    "arr = np.arange(1, 6)\n",
    "print(arr)\n",
    "print('ndim : ', arr.ndim) # 차원\n",
    "print('shape : ', arr.shape) # 행렬의 크기(튜플형태)\n",
    "print('size : ', arr.size) # 배열의 크기(요소의 개수)\n",
    "print('dtype : ', arr.dtype) # 데이터 타입\n",
    "print('itemsize : ', arr.itemsize) # 데이터 타입의 크기(바이트)\n",
    "print('nbytes : ', arr.nbytes) # 배열의 크기(바이트)\n",
    "\n",
    "# 배열의 차원 변경\n",
    "arr = np.arange(1, 13)\n",
    "print(arr)\n",
    "arr2 = arr.reshape(3, 4) # 행렬의 크기를 변경한다.\n",
    "print(arr2)\n"
   ]
  },
  {
   "cell_type": "code",
   "execution_count": 53,
   "id": "160b780e",
   "metadata": {},
   "outputs": [
    {
     "name": "stdout",
     "output_type": "stream",
     "text": [
      "[0 1 2 3 4 5 6 7 8 9]\n",
      "0\n",
      "1\n",
      "[100   1   2   3   4   5   6   7   8   9]\n",
      "[100   1   2]\n",
      "[100   2]\n",
      "[100   2   4   6   8]\n",
      "[1 2 3 4]\n",
      "[1 3]\n",
      "[8 9]\n",
      "[100   1   2   3   4   5   6]\n",
      "[  9   8   7   6   5   4   3   2   1 100]\n",
      "[9 7 5 3 1]\n"
     ]
    }
   ],
   "source": [
    "# 일차원 배열의 접근 및 슬라이싱\n",
    "a1 = np.arange(10)\n",
    "print(a1)\n",
    "print(a1[0]) # 0번째 요소\n",
    "print(a1[1]) # 1번째 요소\n",
    "a1[0] = 100 # 0번째 요소를 100으로 변경\n",
    "print(a1) # 0번째 요소가 100으로 변경된 것을 확인할 수 있다.\n",
    "print(a1[0:3]) # 0부터 2까지의 요소를 가져온다.\n",
    "print(a1[0:3:2]) # 0부터 2까지의 요소를 2씩 증가하여 가져온다.\n",
    "print(a1[::2]) # 0부터 끝까지의 요소를 2씩 증가하여 가져온다.\n",
    "print(a1[1:5]) # 1부터 4까지의 요소를 가져온다.\n",
    "print(a1[1:5:2]) # 1부터 4까지의 요소를 2씩 증가하여 가져온다.\n",
    "\n",
    "print(a1[-2:]) # -2부터 끝까지의 요소를 가져온다.\n",
    "print(a1[:-3]) # 처음부터 -3까지의 요소를 가져온다.\n",
    "print(a1[::-1]) # 처음부터 끝까지의 요소를 역순으로 가져온다.\n",
    "print(a1[::-2]) # 처음부터 끝까지의 요소를 역순으로 2씩 증가하여 가져온다.\n"
   ]
  },
  {
   "cell_type": "code",
   "execution_count": null,
   "id": "45e4c168",
   "metadata": {},
   "outputs": [
    {
     "name": "stdout",
     "output_type": "stream",
     "text": [
      "[[ 0  1  2  3]\n",
      " [ 4  5  6  7]\n",
      " [ 8  9 10 11]\n",
      " [12 13 14 15]]\n",
      "0\n",
      "[ 1  5  9 13]\n",
      "[[ 1  2]\n",
      " [ 5  6]\n",
      " [ 9 10]\n",
      " [13 14]]\n",
      "[[1 2]\n",
      " [5 6]]\n"
     ]
    }
   ],
   "source": [
    "# 이차원 배열의 접근 및 슬라이싱\n",
    "a2 = np.arange(16).reshape(4, 4)\n",
    "print(a2)\n",
    "print(a2[0, 0]) # 0행 0열의 요소를 가져온다.\n",
    "print(a2[:, 1]) # 모든행 1열의 요소를 가져온다.\n",
    "print(a2[:, 1:3]) # 모든행 1열부터 2열까지의 요소를 가져온다. \n",
    "print(a2[:2, 1:3]) # 0행부터 1행까지의 1열부터 2열까지의 요소를 가져온다.\n",
    "print(a2[1:3, 1:5]) # 1행부터 2행까지의 1열부터 4열까지의 요소를 가져온다.\n",
    "print(a2[1:3, 1:5:2]) # 1행부터 2행까지의 1열부터 4열까지의 요소를 2씩 증가하여 가져온다.\n",
    "print(a2[::-1,::-1]) # 모든행을 역순으로 가져온다."
   ]
  },
  {
   "cell_type": "code",
   "execution_count": null,
   "id": "8ec34df4",
   "metadata": {},
   "outputs": [
    {
     "name": "stdout",
     "output_type": "stream",
     "text": [
      "[1 2 3 4 5]\n",
      "[1 3 5]\n"
     ]
    }
   ],
   "source": [
    "# 논리 인덱싱\n",
    "a = np.array([1, 2, 3, 4, 5])\n",
    "print(a)\n",
    "b = [True, False, True, False, True]\n",
    "print(a[b]) # True인 요소만 가져온다.\n"
   ]
  },
  {
   "cell_type": "code",
   "execution_count": null,
   "id": "ac85f9d9",
   "metadata": {},
   "outputs": [
    {
     "name": "stdout",
     "output_type": "stream",
     "text": [
      "[ 0  1  2  3  4  5  6  7  8  9 10]\n",
      "[ 6  7  8  9 10]\n",
      "[ 0  2  4  6  8 10]\n",
      "[False False False False False False  True  True  True  True False]\n",
      "[6 7 8 9]\n",
      "[ 0  1  2  3  4 10]\n",
      "[ 5  6  7  8  9 10]\n"
     ]
    }
   ],
   "source": [
    "# 비교연산자 사용\n",
    "a = np.arange(11)\n",
    "print(a)\n",
    "print(a[a>5]) # 5보다 큰 요소를 가져온다.\n",
    "print(a[a%2==0]) # 짝수인 요소를 가져온다.\n",
    "\n",
    "# 관계연산자 사용\n",
    "print((a > 5) & (a < 10)) # 5보다 크고 10보다 작은 지의 여부를 True, False로 반환한다.\n",
    "print(a[(a > 5) & (a < 10)]) # 5보다 크고 10보다 작은 요소를 가져온다.\n",
    "print(a[(a < 5) | (a > 9)]) # 5보다 크거나 3보다 작은 요소를 가져온다.\n",
    "print(a[~(a < 5)]) # 5보다 작은 요소를 제외한 나머지 요소를 가져온다.\n"
   ]
  },
  {
   "cell_type": "code",
   "execution_count": 59,
   "id": "d9b94427",
   "metadata": {},
   "outputs": [
    {
     "name": "stdout",
     "output_type": "stream",
     "text": [
      "[5 7 9]\n",
      "[-3 -3 -3]\n",
      "[ 4 10 18]\n",
      "[0.25 0.4  0.5 ]\n",
      "[1 4 9]\n",
      "[1 0 1]\n",
      "[0 1 1]\n",
      "[2 3 4]\n",
      "[0 1 2]\n",
      "[2 4 6]\n",
      "[0.5 1.  1.5]\n",
      "[1 4 9]\n",
      "[1 0 1]\n",
      "[0 1 1]\n",
      "[1.         1.41421356 1.73205081]\n",
      "[ 2.71828183  7.3890561  20.08553692]\n",
      "[0.         0.69314718 1.09861229]\n",
      "[0.         0.30103    0.47712125]\n",
      "[0.        1.        1.5849625]\n",
      "[0.84147098 0.90929743 0.14112001]\n",
      "[ 0.54030231 -0.41614684 -0.9899925 ]\n",
      "[ 1.55740772 -2.18503986 -0.14254654]\n"
     ]
    }
   ],
   "source": [
    "# 배열의 연산\n",
    "a = np.array([1, 2, 3])\n",
    "b = np.array([4, 5, 6])\n",
    "print(a + b) # 덧셈\n",
    "print(a - b) # 뺄셈\n",
    "print(a * b) # 곱셈\n",
    "print(a / b) # 나눗셈\n",
    "print(a ** 2) # 제곱\n",
    "print(a % 2) # 나머지\n",
    "print(a // 2) # 몫\n",
    "print(a + 1) # 1을 더한다.\n",
    "print(a - 1) # 1을 뺀다.\n",
    "print(a * 2) # 2를 곱한다.\n",
    "print(a / 2) # 2로 나눈다.\n",
    "print(a ** 2) # 제곱\n",
    "print(a % 2) # 나머지\n",
    "print(a // 2) # 몫\n",
    "print(np.sqrt(a)) # 제곱근\n",
    "print(np.exp(a)) # 지수\n",
    "print(np.log(a)) # 로그\n",
    "print(np.log10(a)) # 상용로그\n",
    "print(np.log2(a)) # 자연로그\n",
    "print(np.sin(a)) # 사인\n",
    "print(np.cos(a)) # 코사인\n",
    "print(np.tan(a)) # 탄젠트"
   ]
  },
  {
   "cell_type": "code",
   "execution_count": null,
   "id": "9d9f2d51",
   "metadata": {},
   "outputs": [
    {
     "name": "stdout",
     "output_type": "stream",
     "text": [
      "[[1 2 3]\n",
      " [4 5 6]\n",
      " [7 8 9]]\n",
      "[[1 4 7]\n",
      " [2 5 8]\n",
      " [3 6 9]]\n",
      "45\n",
      "[12 15 18]\n",
      "[ 6 15 24]\n",
      "5.0\n",
      "[4. 5. 6.]\n",
      "[2. 5. 8.]\n",
      "9\n",
      "[7 8 9]\n",
      "[3 6 9]\n",
      "1\n"
     ]
    }
   ],
   "source": [
    "# 배열의 변경\n",
    "a = np.arange(1, 10).reshape(3, 3)\n",
    "print(a)\n",
    "print(a.T) # 전치행렬\n",
    "print(a.sum()) # 모든 요소의 합\n",
    "print(a.sum(axis=0)) # 열의 합\n",
    "print(a.sum(axis=1)) # 행의 합\n",
    "print(a.mean()) # 모든 요소의 평균\n",
    "print(a.mean(axis=0)) # 열의 평균\n",
    "print(a.mean(axis=1)) # 행의 평균\n",
    "print(a.max()) # 모든 요소의 최대값\n",
    "print(a.min()) # 모든 요소의 최소값\n",
    "print(a.std()) # 모든 요소의 표준편차"
   ]
  },
  {
   "cell_type": "code",
   "execution_count": null,
   "id": "d7f3121e",
   "metadata": {},
   "outputs": [],
   "source": [
    "# 브로드캐스팅 연산"
   ]
  },
  {
   "attachments": {
    "image.png": {
     "image/png": "[encoded data removed]"
    }
   },
   "cell_type": "markdown",
   "id": "5d54b43c",
   "metadata": {},
   "source": [
    "![image.png](attachment:image.png)"
   ]
  },
  {
   "cell_type": "code",
   "execution_count": 63,
   "id": "7c23a5a4",
   "metadata": {},
   "outputs": [
    {
     "name": "stdout",
     "output_type": "stream",
     "text": [
      "[[1 2 3]\n",
      " [4 5 6]\n",
      " [7 8 9]]\n",
      "[1 2 3]\n",
      "[[ 2  4  6]\n",
      " [ 5  7  9]\n",
      " [ 8 10 12]]\n",
      "[[0 0 0]\n",
      " [3 3 3]\n",
      " [6 6 6]]\n",
      "[[ 1  4  9]\n",
      " [ 4 10 18]\n",
      " [ 7 16 27]]\n",
      "[[1.  1.  1. ]\n",
      " [4.  2.5 2. ]\n",
      " [7.  4.  3. ]]\n"
     ]
    }
   ],
   "source": [
    "print(a)\n",
    "b= np.arange(1,4)\n",
    "print(b)\n",
    "print(a + b) # a의 각 행에 b를 더한다.\n",
    "print(a - b) # a의 각 행에 b를 뺀다.\n",
    "print(a * b) # a의 각 행에 b를 곱한다.\n",
    "print(a / b) # a의 각 행에 b를 나눈다."
   ]
  },
  {
   "cell_type": "code",
   "execution_count": 67,
   "id": "7a48ad53",
   "metadata": {},
   "outputs": [
    {
     "name": "stdout",
     "output_type": "stream",
     "text": [
      "[[1 2 3]\n",
      " [4 5 6]]\n",
      "[[1 4]\n",
      " [2 5]\n",
      " [3 6]]\n",
      "[[14 32]\n",
      " [32 77]]\n",
      "[[14 32]\n",
      " [32 77]]\n"
     ]
    }
   ],
   "source": [
    "# 행렬의 곱(dot product)\n",
    "a = np.arange(1,7).reshape(2, 3)\n",
    "print(a)\n",
    "b = a.T\n",
    "print(b)\n",
    "print(np.dot(a, b)) # 행렬의 곱\n",
    "print(a @ b) # 행렬의 곱"
   ]
  },
  {
   "cell_type": "code",
   "execution_count": 74,
   "id": "1bc6683c",
   "metadata": {},
   "outputs": [
    {
     "name": "stdout",
     "output_type": "stream",
     "text": [
      "[1 2 3 4 5 6]\n",
      "[[1 4]\n",
      " [2 5]\n",
      " [3 6]]\n",
      "[1 4 2 5 3 6]\n",
      "[1 2 3 4 5 6 7 8 9]\n",
      "[[1 2 3]\n",
      " [4 5 6]\n",
      " [7 8 9]]\n"
     ]
    }
   ],
   "source": [
    "# 배열의 형태변경\n",
    "a = np.arange(1, 7).reshape(2, 3)\n",
    "a1 = a.reshape(6)\n",
    "print(a1)\n",
    "\n",
    "\n",
    "print(b) \n",
    "b1 = b.ravel()\n",
    "print(b1) # 1차원 배열로 변환(크기를 입력안해도 되는 장점이 있지만 reshape을 주로 쓰기 때문에 잘 안씀.)\n",
    "\n",
    "a = np.arange(1,10)\n",
    "print(a)\n",
    "a1 = np.resize(a, (3, 3)) # 크기를 변경한다. (원래 배열의 크기보다 작으면 잘리고, 크기가 더 크면 반복된다.)\n",
    "print(a1)"
   ]
  },
  {
   "cell_type": "code",
   "execution_count": null,
   "id": "a0bb6eef",
   "metadata": {},
   "outputs": [
    {
     "name": "stdout",
     "output_type": "stream",
     "text": [
      "[[1 2 3]\n",
      " [4 5 6]\n",
      " [7 8 9]]\n",
      "[ 1  2  3  4  5  6  7  8  9 10]\n",
      "[ 1  2  3  4  5  6  7  8  9 10 10 11]\n",
      "[[1 2 3]\n",
      " [4 5 6]\n",
      " [7 8 9]]\n",
      "[[ 1  2  3]\n",
      " [ 4  5  6]\n",
      " [ 7  8  9]\n",
      " [10 11 12]]\n",
      "[[ 1  2  3 10]\n",
      " [ 4  5  6 11]\n",
      " [ 7  8  9 12]]\n"
     ]
    }
   ],
   "source": [
    "# 배열의 추가\n",
    "    # 일차원 배열\n",
    "print(a)\n",
    "a= np.append(a, 10) # 배열의 끝에 10을 추가한다.\n",
    "print(a)\n",
    "a = np.append(a, [10, 11]) # 배열의 끝에 10, 11을 추가한다.\n",
    "print(a) \n",
    "    # 이차원 배열\n",
    "a = np.arange(1,10).reshape(3, 3)\n",
    "print(a)\n",
    "b= np.append(a, [[10, 11, 12]], axis=0) # 배열의 끝에 [10, 11, 12]를 추가한다.\n",
    "print(b)\n",
    "b = np.append(a, [[10], [11], [12]], axis=1) # 배열의 끝에 [[10], [11], [12]]를 추가한다.\n",
    "print(b)\n",
    "\n"
   ]
  },
  {
   "cell_type": "code",
   "execution_count": 88,
   "id": "25a281de",
   "metadata": {},
   "outputs": [
    {
     "name": "stdout",
     "output_type": "stream",
     "text": [
      "[[1 2 3]\n",
      " [4 5 6]\n",
      " [7 8 9]]\n",
      "[ 1 10  2  3  4  5  6  7  8  9]\n",
      "[[  1 100   2   3]\n",
      " [  4 100   5   6]\n",
      " [  7 100   8   9]]\n",
      "[[  1   2   3]\n",
      " [100 200 300]\n",
      " [  4   5   6]\n",
      " [  7   8   9]]\n",
      "[[  1 100 200 300   2   3]\n",
      " [  4 100 200 300   5   6]\n",
      " [  7 100 200 300   8   9]]\n"
     ]
    }
   ],
   "source": [
    "# 배열의 삽입\n",
    "a = np.arange(1, 10).reshape(3, 3)\n",
    "print(a)\n",
    "c = np.insert(a, 1, 10) # 1번째 위치에 10을 삽입한다.\n",
    "print(c) # 축을 지정하지 않으면 1차원 배열로 변환됨\n",
    "c = np.insert(a, 1, 100, axis=1) # 1번째 위치에 100을 삽입한다.\n",
    "print(c)\n",
    "c = np.insert(a, 1, [100, 200, 300], axis=0) # 1번째 위치에 [100, 200, 300]을 삽입한다.\n",
    "print(c)\n",
    "c = np.insert(a, 1, [[100], [200], [300]], axis=1) # 1번째 위치에 [[100], [200], [300]]을 삽입한다.\n",
    "print(c)\n"
   ]
  },
  {
   "cell_type": "code",
   "execution_count": 89,
   "id": "78dd72e5",
   "metadata": {},
   "outputs": [
    {
     "name": "stdout",
     "output_type": "stream",
     "text": [
      "[1 3 4 5 6 7 8 9]\n",
      "[[1 2 3]\n",
      " [7 8 9]]\n"
     ]
    }
   ],
   "source": [
    "# 배열의 삭제\n",
    "b = np.delete(a, 1) # 1번째 요소를 삭제한다.\n",
    "print(b)\n",
    "b= np.delete(a, 1, axis=0) # 1번째 행을 삭제한다.\n",
    "print(b)"
   ]
  },
  {
   "cell_type": "code",
   "execution_count": null,
   "id": "3f5d77eb",
   "metadata": {},
   "outputs": [
    {
     "name": "stdout",
     "output_type": "stream",
     "text": [
      "[[1 2 3]\n",
      " [4 5 6]]\n",
      "[[ 7  8  9]\n",
      " [10 11 12]]\n",
      "[[ 1  2  3]\n",
      " [ 4  5  6]\n",
      " [ 7  8  9]\n",
      " [10 11 12]]\n",
      "[[ 1  2  3]\n",
      " [ 4  5  6]\n",
      " [ 7  8  9]\n",
      " [10 11 12]]\n",
      "[[ 1  2  3  7  8  9]\n",
      " [ 4  5  6 10 11 12]]\n"
     ]
    }
   ],
   "source": [
    "# 배열의 결합\n",
    "a = np.arange(1, 7).reshape(2,3)\n",
    "b = np.arange(7,13).reshape(2,3)\n",
    "print(a)\n",
    "print(b)\n",
    "c = np.concatenate((a, b)) # 기본적으로 행 방향으로 결합\n",
    "print(c)\n",
    "c = np.concatenate((a, b), axis=0) # 행 방향으로 결합\n",
    "print(c)\n",
    "d = np.concatenate((a, b), axis=1) # 열 방향으로 결합\n",
    "print(d) "
   ]
  },
  {
   "cell_type": "code",
   "execution_count": 101,
   "id": "312f0532",
   "metadata": {},
   "outputs": [
    {
     "name": "stdout",
     "output_type": "stream",
     "text": [
      "[[ 1  2  3  4]\n",
      " [ 5  6  7  8]\n",
      " [ 9 10 11 12]\n",
      " [13 14 15 16]]\n",
      "[array([[ 1,  2],\n",
      "       [ 5,  6],\n",
      "       [ 9, 10],\n",
      "       [13, 14]]), array([[ 3,  4],\n",
      "       [ 7,  8],\n",
      "       [11, 12],\n",
      "       [15, 16]])]\n",
      "[array([[1, 2, 3, 4],\n",
      "       [5, 6, 7, 8]]), array([[ 9, 10, 11, 12],\n",
      "       [13, 14, 15, 16]])]\n"
     ]
    }
   ],
   "source": [
    "# 배열의 분리\n",
    "a = np.arange(1, 17).reshape(4, 4)\n",
    "print(a)\n",
    "b = np.hsplit(a, 2) # horizontal split : 2개의 배열로 분리\n",
    "print(b)\n",
    "c = np.vsplit(a, 2) # vertical split : 2개의 배열로 분리\n",
    "print(c)"
   ]
  }
 ],
 "metadata": {
  "kernelspec": {
   "display_name": "base",
   "language": "python",
   "name": "python3"
  },
  "language_info": {
   "codemirror_mode": {
    "name": "ipython",
    "version": 3
   },
   "file_extension": ".py",
   "mimetype": "text/x-python",
   "name": "python",
   "nbconvert_exporter": "python",
   "pygments_lexer": "ipython3",
   "version": "3.12.7"
  }
 },
 "nbformat": 4,
 "nbformat_minor": 5
}
